{
  "nbformat": 4,
  "nbformat_minor": 0,
  "metadata": {
    "colab": {
      "provenance": [],
      "authorship_tag": "ABX9TyNNerGn5boVYGSMZ5TS4jtm"
    },
    "kernelspec": {
      "name": "ir",
      "display_name": "R"
    },
    "language_info": {
      "name": "R"
    }
  },
  "cells": [
    {
      "cell_type": "markdown",
      "source": [
        "## **Survival of passengers on the Titanic**\n",
        "### *Katona Angela-Bernadett - Inginerie Software*\n"
      ],
      "metadata": {
        "id": "pTUTqjxduQ0b"
      }
    },
    {
      "cell_type": "markdown",
      "source": [
        "Setul de date ales este \"**Titanic**\", un set ce contine informatii despre soarta pasagerilor celebrului vas Titanic. Acesta contine 887 de observatii, avand 8 variabile. Dintre acestea am ales sa lucrez numai cu 4 variabile pe care le-am considerat fiind cele mai semnificative pentru problemele ce as vrea sa le studiez:\n",
        "\n",
        "\n",
        "*   **Pclass** -  1, 2 sau 3 in functie de clasa sociala (calitativ ordinal)\n",
        "*   **Sex** - male, female (calitativ binar)\n",
        "\n",
        "*   **Age** - varsta pasagerilor (cantitativ discret)\n",
        "*   **Survived** -  1 daca au supravietuit, 0 daca nu au supravietuit (calitativ binar)\n",
        "\n",
        "\n",
        "\n",
        "\n"
      ],
      "metadata": {
        "id": "bQPhhIxrveA7"
      }
    },
    {
      "cell_type": "code",
      "source": [
        "# pachete necesare\n",
        "library(\"data.table\") \n",
        "library(\"ggplot2\")\n",
        "library(\"readr\")\n",
        "#library(\"dplyr\")\n",
        "library(\"tidyr\")\n",
        "library(\"forcats\")\n",
        "library(\"devtools\")\n",
        "library(\"tidyverse\")"
      ],
      "metadata": {
        "id": "s9_pCkTDECwX"
      },
      "execution_count": 6,
      "outputs": []
    },
    {
      "cell_type": "code",
      "source": [
        "# incarcarea setului de date\n",
        "titanic <- fread(\"./sample_data/titanic.csv\", select = c(\"Pclass\", \"Sex\", \"Age\", \"Survived\"))\n",
        "head(titanic)"
      ],
      "metadata": {
        "colab": {
          "base_uri": "https://localhost:8080/",
          "height": 286
        },
        "id": "0t9E6zE_Gbzn",
        "outputId": "04690f77-be86-43de-8531-c9166f47c413"
      },
      "execution_count": 7,
      "outputs": [
        {
          "output_type": "display_data",
          "data": {
            "text/html": [
              "<table class=\"dataframe\">\n",
              "<caption>A data.table: 6 × 4</caption>\n",
              "<thead>\n",
              "\t<tr><th scope=col>Pclass</th><th scope=col>Sex</th><th scope=col>Age</th><th scope=col>Survived</th></tr>\n",
              "\t<tr><th scope=col>&lt;int&gt;</th><th scope=col>&lt;chr&gt;</th><th scope=col>&lt;dbl&gt;</th><th scope=col>&lt;int&gt;</th></tr>\n",
              "</thead>\n",
              "<tbody>\n",
              "\t<tr><td>3</td><td>male  </td><td>22</td><td>0</td></tr>\n",
              "\t<tr><td>1</td><td>female</td><td>38</td><td>1</td></tr>\n",
              "\t<tr><td>3</td><td>female</td><td>26</td><td>1</td></tr>\n",
              "\t<tr><td>1</td><td>female</td><td>35</td><td>1</td></tr>\n",
              "\t<tr><td>3</td><td>male  </td><td>35</td><td>0</td></tr>\n",
              "\t<tr><td>3</td><td>male  </td><td>27</td><td>0</td></tr>\n",
              "</tbody>\n",
              "</table>\n"
            ],
            "text/markdown": "\nA data.table: 6 × 4\n\n| Pclass &lt;int&gt; | Sex &lt;chr&gt; | Age &lt;dbl&gt; | Survived &lt;int&gt; |\n|---|---|---|---|\n| 3 | male   | 22 | 0 |\n| 1 | female | 38 | 1 |\n| 3 | female | 26 | 1 |\n| 1 | female | 35 | 1 |\n| 3 | male   | 35 | 0 |\n| 3 | male   | 27 | 0 |\n\n",
            "text/latex": "A data.table: 6 × 4\n\\begin{tabular}{llll}\n Pclass & Sex & Age & Survived\\\\\n <int> & <chr> & <dbl> & <int>\\\\\n\\hline\n\t 3 & male   & 22 & 0\\\\\n\t 1 & female & 38 & 1\\\\\n\t 3 & female & 26 & 1\\\\\n\t 1 & female & 35 & 1\\\\\n\t 3 & male   & 35 & 0\\\\\n\t 3 & male   & 27 & 0\\\\\n\\end{tabular}\n",
            "text/plain": [
              "  Pclass Sex    Age Survived\n",
              "1 3      male   22  0       \n",
              "2 1      female 38  1       \n",
              "3 3      female 26  1       \n",
              "4 1      female 35  1       \n",
              "5 3      male   35  0       \n",
              "6 3      male   27  0       "
            ]
          },
          "metadata": {}
        }
      ]
    },
    {
      "cell_type": "markdown",
      "source": [
        "Problemele ce vor fi discutate in continuare sunt:\n",
        "\n",
        "\n",
        "1.   Analizarea ratei de supravietuire in functie de diferiti factori\n",
        "2.   Analizarea unor ipoteze statistice\n",
        "3.   Crearea unui model de regresie logistica\n",
        "\n"
      ],
      "metadata": {
        "id": "zjzBChOZqWg3"
      }
    },
    {
      "cell_type": "markdown",
      "source": [
        "### 1. Analizarea ratei de supravietuire in functie de diferiti factori"
      ],
      "metadata": {
        "id": "26-kDv-Pud3p"
      }
    },
    {
      "cell_type": "markdown",
      "source": [
        "Folosind un barplot, putem vizualiza cate persoane au supravietuit comparativ cu cele care nu au supravietuit. Se poate observa usor ca numarul persoanelor decesate este mai mare."
      ],
      "metadata": {
        "id": "T2EfM8gRS_3l"
      }
    },
    {
      "cell_type": "code",
      "source": [
        "barplot(table(titanic$Survived), names=c(\"Deceased\",\"Survived\"))"
      ],
      "metadata": {
        "colab": {
          "base_uri": "https://localhost:8080/",
          "height": 437
        },
        "id": "fDaAZ8dzM8Mt",
        "outputId": "ce15f6d2-2414-49db-95fe-d34abf283948"
      },
      "execution_count": 8,
      "outputs": [
        {
          "output_type": "display_data",
          "data": {
            "text/plain": [
              "plot without title"
            ],
            "image/png": "[encoded data removed]"
          },
          "metadata": {
            "image/png": {
              "width": 420,
              "height": 420
            }
          }
        }
      ]
    },
    {
      "cell_type": "markdown",
      "source": [
        "In continuare, vom analiza rata de supravietuire in functie de sex, cat si in functie de varsta, folosind tabele de frecventa."
      ],
      "metadata": {
        "id": "tJfnur_YTNld"
      }
    },
    {
      "cell_type": "code",
      "source": [
        "deathGenderTable = xtabs(~Survived+Sex, data = titanic)\n",
        "addmargins(deathGenderTable)"
      ],
      "metadata": {
        "colab": {
          "base_uri": "https://localhost:8080/",
          "height": 161
        },
        "id": "9E7CEGGKWwPU",
        "outputId": "4e97f1fe-6ae2-4f24-f1fc-e9b25635a5d5"
      },
      "execution_count": 9,
      "outputs": [
        {
          "output_type": "display_data",
          "data": {
            "text/html": [
              "<table class=\"dataframe\">\n",
              "<caption>A table: 3 × 3 of type dbl</caption>\n",
              "<thead>\n",
              "\t<tr><th></th><th scope=col>female</th><th scope=col>male</th><th scope=col>Sum</th></tr>\n",
              "</thead>\n",
              "<tbody>\n",
              "\t<tr><th scope=row>0</th><td> 81</td><td>464</td><td>545</td></tr>\n",
              "\t<tr><th scope=row>1</th><td>233</td><td>109</td><td>342</td></tr>\n",
              "\t<tr><th scope=row>Sum</th><td>314</td><td>573</td><td>887</td></tr>\n",
              "</tbody>\n",
              "</table>\n"
            ],
            "text/markdown": "\nA table: 3 × 3 of type dbl\n\n| <!--/--> | female | male | Sum |\n|---|---|---|---|\n| 0 |  81 | 464 | 545 |\n| 1 | 233 | 109 | 342 |\n| Sum | 314 | 573 | 887 |\n\n",
            "text/latex": "A table: 3 × 3 of type dbl\n\\begin{tabular}{r|lll}\n  & female & male & Sum\\\\\n\\hline\n\t0 &  81 & 464 & 545\\\\\n\t1 & 233 & 109 & 342\\\\\n\tSum & 314 & 573 & 887\\\\\n\\end{tabular}\n",
            "text/plain": [
              "        Sex\n",
              "Survived female male Sum\n",
              "     0    81    464  545\n",
              "     1   233    109  342\n",
              "     Sum 314    573  887"
            ]
          },
          "metadata": {}
        }
      ]
    },
    {
      "cell_type": "code",
      "source": [
        "prop.table(deathGenderTable, 1)"
      ],
      "metadata": {
        "colab": {
          "base_uri": "https://localhost:8080/",
          "height": 86
        },
        "id": "jZMnw5A6ZYCI",
        "outputId": "5f00a5e5-fb83-4184-f4f0-2ec4f047e25f"
      },
      "execution_count": 10,
      "outputs": [
        {
          "output_type": "display_data",
          "data": {
            "text/plain": [
              "        Sex\n",
              "Survived    female      male\n",
              "       0 0.1486239 0.8513761\n",
              "       1 0.6812865 0.3187135"
            ]
          },
          "metadata": {}
        }
      ]
    },
    {
      "cell_type": "markdown",
      "source": [
        "Putem observa faptul ca 85% din persoanele decedate au fost barbati si 68% din persoanele care au supravietuit sunt femei."
      ],
      "metadata": {
        "id": "EDZXnd6cpwXG"
      }
    },
    {
      "cell_type": "code",
      "source": [
        "barplot(deathGenderTable, legend=TRUE)"
      ],
      "metadata": {
        "colab": {
          "base_uri": "https://localhost:8080/",
          "height": 437
        },
        "id": "iinycEjGuN3_",
        "outputId": "b0c410ce-08e4-49e3-bcc7-95916ec81509"
      },
      "execution_count": 11,
      "outputs": [
        {
          "output_type": "display_data",
          "data": {
            "text/plain": [
              "plot without title"
            ],
            "image/png": "[encoded data removed]"
          },
          "metadata": {
            "image/png": {
              "width": 420,
              "height": 420
            }
          }
        }
      ]
    },
    {
      "cell_type": "code",
      "source": [
        "titanic_2 = titanic\n",
        "titanic_2$Age <- ifelse(titanic_2$Age < 18, \"Child\", \"Adult\")\n",
        "head(titanic_2,10)"
      ],
      "metadata": {
        "colab": {
          "base_uri": "https://localhost:8080/",
          "height": 412
        },
        "id": "KiYdbxavxLnf",
        "outputId": "c5307c78-fe24-45cf-e424-2a5d9aca56d8"
      },
      "execution_count": 12,
      "outputs": [
        {
          "output_type": "display_data",
          "data": {
            "text/html": [
              "<table class=\"dataframe\">\n",
              "<caption>A data.table: 10 × 4</caption>\n",
              "<thead>\n",
              "\t<tr><th scope=col>Pclass</th><th scope=col>Sex</th><th scope=col>Age</th><th scope=col>Survived</th></tr>\n",
              "\t<tr><th scope=col>&lt;int&gt;</th><th scope=col>&lt;chr&gt;</th><th scope=col>&lt;chr&gt;</th><th scope=col>&lt;int&gt;</th></tr>\n",
              "</thead>\n",
              "<tbody>\n",
              "\t<tr><td>3</td><td>male  </td><td>Adult</td><td>0</td></tr>\n",
              "\t<tr><td>1</td><td>female</td><td>Adult</td><td>1</td></tr>\n",
              "\t<tr><td>3</td><td>female</td><td>Adult</td><td>1</td></tr>\n",
              "\t<tr><td>1</td><td>female</td><td>Adult</td><td>1</td></tr>\n",
              "\t<tr><td>3</td><td>male  </td><td>Adult</td><td>0</td></tr>\n",
              "\t<tr><td>3</td><td>male  </td><td>Adult</td><td>0</td></tr>\n",
              "\t<tr><td>1</td><td>male  </td><td>Adult</td><td>0</td></tr>\n",
              "\t<tr><td>3</td><td>male  </td><td>Child</td><td>0</td></tr>\n",
              "\t<tr><td>3</td><td>female</td><td>Adult</td><td>1</td></tr>\n",
              "\t<tr><td>2</td><td>female</td><td>Child</td><td>1</td></tr>\n",
              "</tbody>\n",
              "</table>\n"
            ],
            "text/markdown": "\nA data.table: 10 × 4\n\n| Pclass &lt;int&gt; | Sex &lt;chr&gt; | Age &lt;chr&gt; | Survived &lt;int&gt; |\n|---|---|---|---|\n| 3 | male   | Adult | 0 |\n| 1 | female | Adult | 1 |\n| 3 | female | Adult | 1 |\n| 1 | female | Adult | 1 |\n| 3 | male   | Adult | 0 |\n| 3 | male   | Adult | 0 |\n| 1 | male   | Adult | 0 |\n| 3 | male   | Child | 0 |\n| 3 | female | Adult | 1 |\n| 2 | female | Child | 1 |\n\n",
            "text/latex": "A data.table: 10 × 4\n\\begin{tabular}{llll}\n Pclass & Sex & Age & Survived\\\\\n <int> & <chr> & <chr> & <int>\\\\\n\\hline\n\t 3 & male   & Adult & 0\\\\\n\t 1 & female & Adult & 1\\\\\n\t 3 & female & Adult & 1\\\\\n\t 1 & female & Adult & 1\\\\\n\t 3 & male   & Adult & 0\\\\\n\t 3 & male   & Adult & 0\\\\\n\t 1 & male   & Adult & 0\\\\\n\t 3 & male   & Child & 0\\\\\n\t 3 & female & Adult & 1\\\\\n\t 2 & female & Child & 1\\\\\n\\end{tabular}\n",
            "text/plain": [
              "   Pclass Sex    Age   Survived\n",
              "1  3      male   Adult 0       \n",
              "2  1      female Adult 1       \n",
              "3  3      female Adult 1       \n",
              "4  1      female Adult 1       \n",
              "5  3      male   Adult 0       \n",
              "6  3      male   Adult 0       \n",
              "7  1      male   Adult 0       \n",
              "8  3      male   Child 0       \n",
              "9  3      female Adult 1       \n",
              "10 2      female Child 1       "
            ]
          },
          "metadata": {}
        }
      ]
    },
    {
      "cell_type": "code",
      "source": [
        "deathAgeTable = xtabs(~Age+Survived, data = titanic_2)\n",
        "addmargins(deathAgeTable)"
      ],
      "metadata": {
        "colab": {
          "base_uri": "https://localhost:8080/",
          "height": 161
        },
        "id": "u7VnXhyzCQg8",
        "outputId": "36c5b161-117b-4e01-f2d9-630a74db9df8"
      },
      "execution_count": 13,
      "outputs": [
        {
          "output_type": "display_data",
          "data": {
            "text/html": [
              "<table class=\"dataframe\">\n",
              "<caption>A table: 3 × 3 of type dbl</caption>\n",
              "<thead>\n",
              "\t<tr><th></th><th scope=col>0</th><th scope=col>1</th><th scope=col>Sum</th></tr>\n",
              "</thead>\n",
              "<tbody>\n",
              "\t<tr><th scope=row>Adult</th><td>480</td><td>277</td><td>757</td></tr>\n",
              "\t<tr><th scope=row>Child</th><td> 65</td><td> 65</td><td>130</td></tr>\n",
              "\t<tr><th scope=row>Sum</th><td>545</td><td>342</td><td>887</td></tr>\n",
              "</tbody>\n",
              "</table>\n"
            ],
            "text/markdown": "\nA table: 3 × 3 of type dbl\n\n| <!--/--> | 0 | 1 | Sum |\n|---|---|---|---|\n| Adult | 480 | 277 | 757 |\n| Child |  65 |  65 | 130 |\n| Sum | 545 | 342 | 887 |\n\n",
            "text/latex": "A table: 3 × 3 of type dbl\n\\begin{tabular}{r|lll}\n  & 0 & 1 & Sum\\\\\n\\hline\n\tAdult & 480 & 277 & 757\\\\\n\tChild &  65 &  65 & 130\\\\\n\tSum & 545 & 342 & 887\\\\\n\\end{tabular}\n",
            "text/plain": [
              "       Survived\n",
              "Age     0   1   Sum\n",
              "  Adult 480 277 757\n",
              "  Child  65  65 130\n",
              "  Sum   545 342 887"
            ]
          },
          "metadata": {}
        }
      ]
    },
    {
      "cell_type": "code",
      "source": [
        "prop.table(deathAgeTable, 1)"
      ],
      "metadata": {
        "colab": {
          "base_uri": "https://localhost:8080/",
          "height": 86
        },
        "id": "XnUF2RdZaAIJ",
        "outputId": "7352c3e1-4a7a-469f-8662-35c523a40a30"
      },
      "execution_count": 14,
      "outputs": [
        {
          "output_type": "display_data",
          "data": {
            "text/plain": [
              "       Survived\n",
              "Age             0         1\n",
              "  Adult 0.6340819 0.3659181\n",
              "  Child 0.5000000 0.5000000"
            ]
          },
          "metadata": {}
        }
      ]
    },
    {
      "cell_type": "markdown",
      "source": [
        "Putem observa ca jumatate din copii au decedat si jumatate au supravietuit."
      ],
      "metadata": {
        "id": "FmMXas4MroKp"
      }
    },
    {
      "cell_type": "markdown",
      "source": [
        "Putem analiza rata de supravietuire in functie de varsta mai in detaliu prin a vizualiza indicatorii statistici de pozitie. Asadar varsta medie a unui supravietuitor este de 28 de ani, dar de asemenea varsta medie a unei persoane decedate este de 30 de ani."
      ],
      "metadata": {
        "id": "6atR3sfVxjvj"
      }
    },
    {
      "cell_type": "code",
      "source": [
        "survivorAge = titanic$Age[titanic$Survived==1]\n",
        "summary(survivorAge)"
      ],
      "metadata": {
        "colab": {
          "base_uri": "https://localhost:8080/",
          "height": 52
        },
        "id": "1U5fPiq4yYaf",
        "outputId": "790fdeab-99ba-49aa-8909-9a95030f890e"
      },
      "execution_count": 15,
      "outputs": [
        {
          "output_type": "display_data",
          "data": {
            "text/plain": [
              "   Min. 1st Qu.  Median    Mean 3rd Qu.    Max. \n",
              "   0.42   19.00   28.00   28.41   36.75   80.00 "
            ]
          },
          "metadata": {}
        }
      ]
    },
    {
      "cell_type": "code",
      "source": [
        "deceasedAge = titanic$Age[titanic$Survived==0]\n",
        "summary(deceasedAge)"
      ],
      "metadata": {
        "colab": {
          "base_uri": "https://localhost:8080/",
          "height": 52
        },
        "id": "B643H3Bm3DRe",
        "outputId": "60c83637-9200-446a-d8c0-9937800db8fa"
      },
      "execution_count": 16,
      "outputs": [
        {
          "output_type": "display_data",
          "data": {
            "text/plain": [
              "   Min. 1st Qu.  Median    Mean 3rd Qu.    Max. \n",
              "   1.00   21.00   28.00   30.14   39.00   74.00 "
            ]
          },
          "metadata": {}
        }
      ]
    },
    {
      "cell_type": "code",
      "source": [
        "boxplot(survivorAge, deceasedAge,names=c(\"Survived\",\"Deceased\"))"
      ],
      "metadata": {
        "colab": {
          "base_uri": "https://localhost:8080/",
          "height": 437
        },
        "id": "apBaOaGV8bz4",
        "outputId": "e420c749-a82a-45f6-b746-b4e8a4483a17"
      },
      "execution_count": 17,
      "outputs": [
        {
          "output_type": "display_data",
          "data": {
            "text/plain": [
              "plot without title"
            ],
            "image/png": "[encoded data removed]"
          },
          "metadata": {
            "image/png": {
              "width": 420,
              "height": 420
            }
          }
        }
      ]
    },
    {
      "cell_type": "code",
      "source": [
        "hist(survivorAge)"
      ],
      "metadata": {
        "colab": {
          "base_uri": "https://localhost:8080/",
          "height": 437
        },
        "id": "rikuRANx0g-H",
        "outputId": "f981db99-989c-445a-8b7d-2c36e8c985c9"
      },
      "execution_count": 18,
      "outputs": [
        {
          "output_type": "display_data",
          "data": {
            "text/plain": [
              "Plot with title “Histogram of survivorAge”"
            ],
            "image/png": "[encoded data removed]"
          },
          "metadata": {
            "image/png": {
              "width": 420,
              "height": 420
            }
          }
        }
      ]
    },
    {
      "cell_type": "code",
      "source": [
        "hist(deceasedAge)"
      ],
      "metadata": {
        "colab": {
          "base_uri": "https://localhost:8080/",
          "height": 437
        },
        "id": "08b9boqt7s-U",
        "outputId": "4250fbf3-2e1f-4ede-ef6d-36290920bc82"
      },
      "execution_count": 19,
      "outputs": [
        {
          "output_type": "display_data",
          "data": {
            "text/plain": [
              "Plot with title “Histogram of deceasedAge”"
            ],
            "image/png": "[encoded data removed]"
          },
          "metadata": {
            "image/png": {
              "width": 420,
              "height": 420
            }
          }
        }
      ]
    },
    {
      "cell_type": "markdown",
      "source": [
        "Pentru a compara rata de supravietuire si diferenta acestora in functie de clase, am folosit un barplot. Putem observa ca 39% din persoanele care au supravietuit au fost la clasa 1, iar aproape 70% din persoanele care au decedat au fost din clasa inferioara."
      ],
      "metadata": {
        "id": "b5pCzJrZsDi6"
      }
    },
    {
      "cell_type": "code",
      "source": [
        "deathClassTable = xtabs(~Survived+Pclass, data = titanic)\n",
        "prop.table(deathClassTable, 1)\n",
        "barplot(deathClassTable)"
      ],
      "metadata": {
        "colab": {
          "base_uri": "https://localhost:8080/",
          "height": 506
        },
        "id": "CEOZAGz6ahJg",
        "outputId": "f1dff282-b567-472f-f871-ca4502bd81f0"
      },
      "execution_count": 20,
      "outputs": [
        {
          "output_type": "display_data",
          "data": {
            "text/plain": [
              "        Pclass\n",
              "Survived         1         2         3\n",
              "       0 0.1467890 0.1779817 0.6752294\n",
              "       1 0.3976608 0.2543860 0.3479532"
            ]
          },
          "metadata": {}
        },
        {
          "output_type": "display_data",
          "data": {
            "text/plain": [
              "plot without title"
            ],
            "image/png": "[encoded data removed]"
          },
          "metadata": {
            "image/png": {
              "width": 420,
              "height": 420
            }
          }
        }
      ]
    },
    {
      "cell_type": "code",
      "source": [
        "titanic %>% \n",
        "  ggplot(aes(x = Survived, fill = Sex)) +\n",
        "  geom_bar() +\n",
        "  facet_wrap(~ Pclass) "
      ],
      "metadata": {
        "colab": {
          "base_uri": "https://localhost:8080/",
          "height": 437
        },
        "id": "EXpT_v6zDPNL",
        "outputId": "f3d084d5-2af4-4271-d085-1393b437957d"
      },
      "execution_count": 21,
      "outputs": [
        {
          "output_type": "display_data",
          "data": {
            "text/plain": [
              "plot without title"
            ],
            "image/png": "[encoded data removed]"
          },
          "metadata": {
            "image/png": {
              "width": 420,
              "height": 420
            }
          }
        }
      ]
    },
    {
      "cell_type": "markdown",
      "source": [
        "### 2. Analizarea unor ipoteze statistice"
      ],
      "metadata": {
        "id": "mXLzYp007-74"
      }
    },
    {
      "cell_type": "markdown",
      "source": [
        "> Dorim sa verificam ipoteza ca varsta persoanelor decedate este mai mare decat a persoanelor care au supravietuit, la nivelul de semnificatie 0.05.\n",
        "\n"
      ],
      "metadata": {
        "id": "wGVNkeI--2SU"
      }
    },
    {
      "cell_type": "code",
      "source": [
        "#H0:deceasedAge = survivorAge, Ha: deceasedAge > survivorAge\n",
        "t.test(survivorAge, deceasedAge, mu = 0, alt = \"less\", paired = F)"
      ],
      "metadata": {
        "colab": {
          "base_uri": "https://localhost:8080/",
          "height": 208
        },
        "id": "9eOVrr4z-M6P",
        "outputId": "1bf5c776-6d72-40ce-b194-cd4c9b526ca6"
      },
      "execution_count": 22,
      "outputs": [
        {
          "output_type": "display_data",
          "data": {
            "text/plain": [
              "\n",
              "\tWelch Two Sample t-test\n",
              "\n",
              "data:  survivorAge and deceasedAge\n",
              "t = -1.763, df = 704.1, p-value = 0.03917\n",
              "alternative hypothesis: true difference in means is less than 0\n",
              "95 percent confidence interval:\n",
              "       -Inf -0.1137992\n",
              "sample estimates:\n",
              "mean of x mean of y \n",
              " 28.40839  30.13853 \n"
            ]
          },
          "metadata": {}
        }
      ]
    },
    {
      "cell_type": "markdown",
      "source": [
        "Valoarea lui p este mai mica decat 0.05, deci respingem H0 si acceptam Ha. Asadar, ipoza noastra initiala este corecta."
      ],
      "metadata": {
        "id": "n8TwGqeIHYq6"
      }
    },
    {
      "cell_type": "markdown",
      "source": [
        "> Dorim sa verificam ipoteza ca numarul de femei care au supravietuit este mai mare decat cel al barbatilor."
      ],
      "metadata": {
        "id": "uuU3V7iCIeld"
      }
    },
    {
      "cell_type": "code",
      "source": [
        "#H0:femei = barbati, Ha: femei > barbati\n",
        "t.test(titanic$Survived~titanic$Sex, mu=0, alt=\"t\", paired=F)  "
      ],
      "metadata": {
        "colab": {
          "base_uri": "https://localhost:8080/",
          "height": 208
        },
        "id": "rdkbms7oI2jG",
        "outputId": "ff30421b-86c3-42d5-e1a5-b5a9f13c6703"
      },
      "execution_count": 23,
      "outputs": [
        {
          "output_type": "display_data",
          "data": {
            "text/plain": [
              "\n",
              "\tWelch Two Sample t-test\n",
              "\n",
              "data:  titanic$Survived by titanic$Sex\n",
              "t = 18.592, df = 587.06, p-value < 2.2e-16\n",
              "alternative hypothesis: true difference in means between group female and group male is not equal to 0\n",
              "95 percent confidence interval:\n",
              " 0.4935209 0.6101018\n",
              "sample estimates:\n",
              "mean in group female   mean in group male \n",
              "           0.7420382            0.1902269 \n"
            ]
          },
          "metadata": {}
        }
      ]
    },
    {
      "cell_type": "markdown",
      "source": [
        "### 3.   Crearea unui model de regresie logistica "
      ],
      "metadata": {
        "id": "FqIM9x9KSdmm"
      }
    },
    {
      "cell_type": "code",
      "source": [
        "sample = sample(1:nrow(titanic), floor(.75*nrow(titanic)), replace = F)\n",
        "\n",
        "train = titanic[sample,]\n",
        "test = titanic[-sample,]\n",
        "\n",
        "\n",
        "model=glm(Survived~Age+Sex+Pclass, family = binomial(logit), data = train)\n",
        "summary(model)\n",
        "\n",
        "newdata=data.frame(Age=test$Age[1],Sex=test$Sex[1],Pclass=test$Pclass[1])\n",
        "print(\"Survived based on dataset:\")\n",
        "test$Survived[1]\n",
        "print(\"Survival prediction:\")\n",
        "predict(model,newdata,type=\"response\")\n",
        "\n",
        "\n",
        "newdata=data.frame(Age=test$Age[5],Sex=test$Sex[5],Pclass=test$Pclass[5])\n",
        "print(\"Survived based on dataset:\")\n",
        "test$Survived[5]\n",
        "print(\"Survival prediction:\")\n",
        "predict(model,newdata,type=\"response\")\n",
        "\n",
        "newdata=data.frame(Age=22,Sex=\"female\",Pclass=2)\n",
        "print(\"Would I have survived:\")\n",
        "predict(model,newdata,type=\"response\")"
      ],
      "metadata": {
        "colab": {
          "base_uri": "https://localhost:8080/",
          "height": 625
        },
        "id": "pB8Hj9RGTUr-",
        "outputId": "be61385c-be4d-42fa-9d87-47abf244a12a"
      },
      "execution_count": 37,
      "outputs": [
        {
          "output_type": "display_data",
          "data": {
            "text/plain": [
              "\n",
              "Call:\n",
              "glm(formula = Survived ~ Age + Sex + Pclass, family = binomial(logit), \n",
              "    data = train)\n",
              "\n",
              "Deviance Residuals: \n",
              "    Min       1Q   Median       3Q      Max  \n",
              "-2.0012  -0.6509  -0.3867   0.6263   2.5356  \n",
              "\n",
              "Coefficients:\n",
              "             Estimate Std. Error z value Pr(>|z|)    \n",
              "(Intercept)  5.273869   0.553542   9.527  < 2e-16 ***\n",
              "Age         -0.041179   0.008509  -4.839  1.3e-06 ***\n",
              "Sexmale     -2.563008   0.218680 -11.720  < 2e-16 ***\n",
              "Pclass      -1.357539   0.148575  -9.137  < 2e-16 ***\n",
              "---\n",
              "Signif. codes:  0 ‘***’ 0.001 ‘**’ 0.01 ‘*’ 0.05 ‘.’ 0.1 ‘ ’ 1\n",
              "\n",
              "(Dispersion parameter for binomial family taken to be 1)\n",
              "\n",
              "    Null deviance: 878.46  on 664  degrees of freedom\n",
              "Residual deviance: 589.49  on 661  degrees of freedom\n",
              "AIC: 597.49\n",
              "\n",
              "Number of Fisher Scoring iterations: 5\n"
            ]
          },
          "metadata": {}
        },
        {
          "output_type": "stream",
          "name": "stdout",
          "text": [
            "[1] \"Survived based on dataset:\"\n"
          ]
        },
        {
          "output_type": "display_data",
          "data": {
            "text/html": [
              "0"
            ],
            "text/markdown": "0",
            "text/latex": "0",
            "text/plain": [
              "[1] 0"
            ]
          },
          "metadata": {}
        },
        {
          "output_type": "stream",
          "name": "stdout",
          "text": [
            "[1] \"Survival prediction:\"\n"
          ]
        },
        {
          "output_type": "display_data",
          "data": {
            "text/html": [
              "<strong>1:</strong> 0.0938341323945026"
            ],
            "text/markdown": "**1:** 0.0938341323945026",
            "text/latex": "\\textbf{1:} 0.0938341323945026",
            "text/plain": [
              "         1 \n",
              "0.09383413 "
            ]
          },
          "metadata": {}
        },
        {
          "output_type": "stream",
          "name": "stdout",
          "text": [
            "[1] \"Survived based on dataset:\"\n"
          ]
        },
        {
          "output_type": "display_data",
          "data": {
            "text/html": [
              "0"
            ],
            "text/markdown": "0",
            "text/latex": "0",
            "text/plain": [
              "[1] 0"
            ]
          },
          "metadata": {}
        },
        {
          "output_type": "stream",
          "name": "stdout",
          "text": [
            "[1] \"Survival prediction:\"\n"
          ]
        },
        {
          "output_type": "display_data",
          "data": {
            "text/html": [
              "<strong>1:</strong> 0.101075103290542"
            ],
            "text/markdown": "**1:** 0.101075103290542",
            "text/latex": "\\textbf{1:} 0.101075103290542",
            "text/plain": [
              "        1 \n",
              "0.1010751 "
            ]
          },
          "metadata": {}
        },
        {
          "output_type": "stream",
          "name": "stdout",
          "text": [
            "[1] \"Would I have survived:\"\n"
          ]
        },
        {
          "output_type": "display_data",
          "data": {
            "text/html": [
              "<strong>1:</strong> 0.839276285832319"
            ],
            "text/markdown": "**1:** 0.839276285832319",
            "text/latex": "\\textbf{1:} 0.839276285832319",
            "text/plain": [
              "        1 \n",
              "0.8392763 "
            ]
          },
          "metadata": {}
        }
      ]
    }
  ]
}